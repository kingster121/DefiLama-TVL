{
 "cells": [
  {
   "cell_type": "code",
   "execution_count": 1,
   "id": "c9c746e5",
   "metadata": {},
   "outputs": [],
   "source": [
    "import requests\n",
    "\n",
    "import pandas as pd\n",
    "import datetime\n",
    "\n",
    "import os"
   ]
  },
  {
   "cell_type": "code",
   "execution_count": 2,
   "id": "ec1d6090",
   "metadata": {},
   "outputs": [],
   "source": [
    "# Get symbols that user is tracking\n",
    "names=[\"AAVE\",\"MakerDAO\"]"
   ]
  },
  {
   "cell_type": "code",
   "execution_count": 3,
   "id": "a3759ddc",
   "metadata": {},
   "outputs": [],
   "source": [
    "def lookup(name):\n",
    "    \"\"\"Look up TVL for name\"\"\"\n",
    "\n",
    "    # Contact API\n",
    "    try:\n",
    "        url = f\"https://api.llama.fi/protocol/{name}\"\n",
    "        response = requests.get(url)\n",
    "        response.raise_for_status()\n",
    "    except requests.RequestException:\n",
    "        return None\n",
    "\n",
    "    # Parse response\n",
    "    try:\n",
    "        quote = response.json()\n",
    "        \n",
    "        # Delete uneeded data\n",
    "        chainTvls=quote[\"chainTvls\"]\n",
    "        for chain in chainTvls:\n",
    "            chainTvls[chain]=chainTvls[chain][\"tvl\"]\n",
    "                \n",
    "        return {\n",
    "            \"name\": quote[\"name\"],\n",
    "            \"chainTvls\":chainTvls,\n",
    "            \"tvl\":quote[\"tvl\"]\n",
    "        }\n",
    "    except (KeyError, TypeError, ValueError):\n",
    "        return None"
   ]
  },
  {
   "cell_type": "code",
   "execution_count": 4,
   "id": "4a10b6f1",
   "metadata": {},
   "outputs": [],
   "source": [
    "# Put all data into single dataframe\n",
    "df_detailed = pd.DataFrame()\n",
    "\n",
    "for name in names:\n",
    "    data=lookup(name)\n",
    "\n",
    "    for chain,dateTvl_dict in data[\"chainTvls\"].items():\n",
    "        current_df=pd.DataFrame.from_records(dateTvl_dict)\n",
    "        current_df[\"protocol\"]=data[\"name\"]\n",
    "        current_df[\"chain\"]=chain\n",
    "        df_detailed=pd.concat([df_detailed,current_df])\n",
    "    \n",
    "    current_df=pd.DataFrame.from_records(data[\"tvl\"])\n",
    "    current_df[\"protocol\"]=data[\"name\"]\n",
    "    current_df[\"chain\"]=\"actual tvl\"\n",
    "    df_detailed=pd.concat([df_detailed,current_df])"
   ]
  },
  {
   "cell_type": "code",
   "execution_count": 5,
   "id": "ac037da9",
   "metadata": {},
   "outputs": [],
   "source": [
    "# Change column from int64 to datetime\n",
    "df_detailed['date'] = pd.to_datetime(df_detailed['date'], unit='s')\n",
    "\n",
    "# Sorting the index according to the protocol and chain\n",
    "df_detailed=df_detailed.set_index([\"protocol\",\"chain\",\"date\"]).sort_index()"
   ]
  },
  {
   "cell_type": "code",
   "execution_count": 6,
   "id": "9292b591",
   "metadata": {
    "scrolled": false
   },
   "outputs": [],
   "source": [
    "# Create a df with just the overview of the protocol\n",
    "df_summary=df_detailed.loc[(slice(None),[\"pool2\",\"staking\",\"actual tvl\",\"borrowed\"]),:]\n",
    "\n",
    "df_summary=df_summary.sort_index()"
   ]
  },
  {
   "cell_type": "code",
   "execution_count": 7,
   "id": "4dffd14a",
   "metadata": {},
   "outputs": [],
   "source": [
    "# Export data to excel in the same directory\n",
    "dir_path = os.getcwd()\n",
    "with pd.ExcelWriter(f\"{dir_path}/tvl.xlsx\") as writer: \n",
    "    df_summary.to_excel(writer,sheet_name=\"Summary\")\n",
    "    df_detailed.to_excel(writer,sheet_name=\"Detailed\")"
   ]
  }
 ],
 "metadata": {
  "kernelspec": {
   "display_name": "Python 3 (ipykernel)",
   "language": "python",
   "name": "python3"
  },
  "language_info": {
   "codemirror_mode": {
    "name": "ipython",
    "version": 3
   },
   "file_extension": ".py",
   "mimetype": "text/x-python",
   "name": "python",
   "nbconvert_exporter": "python",
   "pygments_lexer": "ipython3",
   "version": "3.9.12"
  }
 },
 "nbformat": 4,
 "nbformat_minor": 5
}
